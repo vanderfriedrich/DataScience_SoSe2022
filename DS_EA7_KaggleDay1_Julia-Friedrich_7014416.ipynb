# This Python 3 environment comes with many helpful analytics libraries installed
# It is defined by the kaggle/python Docker image: https://github.com/kaggle/docker-python
# For example, here's several helpful packages to load

import numpy as np # linear algebra
import pandas as pd # data processing, CSV file I/O (e.g. pd.read_csv)

# Input data files are available in the read-only "../input/" directory
# For example, running this (by clicking run or pressing Shift+Enter) will list all files under the input directory

import os
for dirname, _, filenames in os.walk('/kaggle/input'):
    for filename in filenames:
        print(os.path.join(dirname, filename))

# You can write up to 20GB to the current directory (/kaggle/working/) that gets preserved as output when you create a version using "Save & Run All" 
# You can also write temporary files to /kaggle/temp/, but they won't be saved outside of the current session



# modules we'll use
import pandas as pd
import numpy as np

# read in all our data
nfl_data = pd.read_csv("../input/nflplaybyplay2009to2016/NFL Play by Play 2009-2016 (v3).csv")
sf_permits = pd.read_csv("../input/building-permit-applications-data/Building_Permits.csv")

# set seed for reproducibility
np.random.seed(0) 



# look at a few rows of the nfl_data file. I can see a handful of missing data already!
nfl_data.sample(5)

# your turn! Look at a couple of rows from the sf_permits dataset. Do you notice any missing data?

# your code goes here :)
sf_permits.sample(5)

# get the number of missing data points per column
missing_values_count = nfl_data.isnull().sum()

# look at the # of missing points in the first ten columns
missing_values_count[0:10]

# how many total missing values do we have?
total_cells = np.product(nfl_data.shape)
total_missing = missing_values_count.sum()

# percent of data that is missing
(total_missing/total_cells) * 100

# your turn! Find out what percent of the sf_permits dataset is missing
sf_missing_values_count = sf_permits.isnull().sum()
sf_missing_values_count[0:10]
sf_total_cells = np.product(sf_permits.shape)
sf_total_missing = sf_missing_values_count.sum()
print('\n Prozentzahl der fehlenden Daten ist: {}%'.format(sf_total_missing/sf_total_cells * 100))

# look at the # of missing points in the first ten columns
missing_values_count[0:10]

#Your turn!¶
#Look at the columns Street Number Suffix and Zipcode from the sf_permits datasets. Both of these contain missing values. 
#Which, if either, of these are missing because they don't exist? Which, if either, are missing because they weren't recorded?
sf_missing_values_count[0:10]

#Antwort: Die meisten Street Number Suffix sind nicht exisistend
#Die PLZ sind nicht existend weil sie nicht aufgezeichnet wurden

# remove all the rows that contain a missing value
nfl_data.dropna()

# remove all columns with at least one missing value
columns_with_na_dropped = nfl_data.dropna(axis=1)
columns_with_na_dropped.head()

# just how much data did we lose?
print("Columns in original dataset: %d \n" % nfl_data.shape[1])
print("Columns with na's dropped: %d" % columns_with_na_dropped.shape[1])

# Your turn! Try removing all the rows from the sf_permits dataset that contain missing values. How many are left?

sf_permits.dropna()

sf_columns_with_na_dropped = sf_permits.dropna(axis=1)
sf_columns_with_na_dropped.head()
# Now try removing all the columns with empty values. Now how much of your data is left?
print("Reihen vor Löschung: %d \n" % sf_permits.shape[1])
print("Reihen mit na's dropped: %d" % sf_columns_with_na_dropped.shape[1])

# get a small subset of the NFL dataset
subset_nfl_data = nfl_data.loc[:, 'EPA':'Season'].head()
subset_nfl_data

# replace all NA's with 0
subset_nfl_data.fillna(0)

# replace all NA's the value that comes directly after it in the same column, 
# then replace all the reamining na's with 0
subset_nfl_data.fillna(method = 'bfill', axis=0).fillna(0)


# Your turn! Try replacing all the NaN's in the sf_permits data with the one that
# comes directly after it and then replacing any remaining NaN's with 0
sf_permits.fillna(method='bfill',axis=0).fillna('0')


