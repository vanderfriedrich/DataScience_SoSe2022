{
 "cells": [
  {
   "cell_type": "code",
   "execution_count": 4,
   "id": "bab3873f",
   "metadata": {},
   "outputs": [
    {
     "data": {
      "text/plain": [
       "2×4 Matrix{Float64}:\n",
       " 1.22101e-315  1.22101e-315  1.22101e-315    2.909e-320\n",
       " 5.69591e-315  1.40012e-315  9.06614e-316  NaN"
      ]
     },
     "execution_count": 4,
     "metadata": {},
     "output_type": "execute_result"
    }
   ],
   "source": [
    "#A=[r + c*c for r in 1:4, c in 1:2]\n",
    "#2*4 Array{Float64}:\n",
    "#A'\n",
    "#julia> parse.(Float64,string.(A))\n",
    "using CategoricalArrays\n",
    "\n",
    "Matrix{Float64}(undef,2,4)\n",
    "\n",
    "\n"
   ]
  },
  {
   "cell_type": "code",
   "execution_count": 5,
   "id": "9ace4026",
   "metadata": {},
   "outputs": [
    {
     "name": "stdout",
     "output_type": "stream",
     "text": [
      "[2 5; 3 6][2 5; 3 6]\n",
      "C:\n"
     ]
    },
    {
     "data": {
      "text/plain": [
       "2×2 Matrix{Int64}:\n",
       " 4  10\n",
       " 6  12"
      ]
     },
     "execution_count": 5,
     "metadata": {},
     "output_type": "execute_result"
    }
   ],
   "source": [
    "#2 Matrixen\n",
    "A = [r + c*c for r in 1:2, c in 1:2]\n",
    "print(A)\n",
    "B = [r + c*c for r in 1:2, c in 1:2]\n",
    "print(B)\n",
    "println()\n",
    "#Addition\n",
    "println(\"C:\")\n",
    "+(A,B)"
   ]
  },
  {
   "cell_type": "code",
   "execution_count": 6,
   "id": "5862261c",
   "metadata": {},
   "outputs": [
    {
     "name": "stdout",
     "output_type": "stream",
     "text": [
      "[2 5; 3 6][2 5; 3 6]\n",
      "C:\n"
     ]
    },
    {
     "data": {
      "text/plain": [
       "2×2 Matrix{Int64}:\n",
       " 19  40\n",
       " 24  51"
      ]
     },
     "execution_count": 6,
     "metadata": {},
     "output_type": "execute_result"
    }
   ],
   "source": [
    "#2 Matrixen\n",
    "A = [r + c*c for r in 1:2, c in 1:2]\n",
    "print(A)\n",
    "B = [r + c*c for r in 1:2, c in 1:2]\n",
    "print(B)\n",
    "println()\n",
    "#Multiplikation\n",
    "println(\"C:\")\n",
    "*(A,B)"
   ]
  },
  {
   "cell_type": "code",
   "execution_count": 7,
   "id": "7c740d55",
   "metadata": {},
   "outputs": [
    {
     "name": "stdout",
     "output_type": "stream",
     "text": [
      "[2 5; 3 6][2 5; 3 6]\n",
      "C:\n"
     ]
    },
    {
     "data": {
      "text/plain": [
       "2×2 Matrix{Int64}:\n",
       " 19  40\n",
       " 24  51"
      ]
     },
     "execution_count": 7,
     "metadata": {},
     "output_type": "execute_result"
    }
   ],
   "source": [
    "#2 Matrixen\n",
    "A = [r + c*c for r in 1:2, c in 1:2]\n",
    "print(A)\n",
    "B = [r + c*c for r in 1:2, c in 1:2]\n",
    "print(B)\n",
    "println()\n",
    "#Multiplikation\n",
    "println(\"C:\")\n",
    "*(A,B)"
   ]
  },
  {
   "cell_type": "code",
   "execution_count": 8,
   "id": "2851ca94",
   "metadata": {},
   "outputs": [
    {
     "name": "stdout",
     "output_type": "stream",
     "text": [
      "[2 5; 3 6][2 5; 3 6]\n",
      "C:\n"
     ]
    },
    {
     "data": {
      "text/plain": [
       "2×2 Matrix{Int64}:\n",
       " 4  25\n",
       " 9  36"
      ]
     },
     "execution_count": 8,
     "metadata": {},
     "output_type": "execute_result"
    }
   ],
   "source": [
    "#2 Matrixen\n",
    "A = [r + c*c for r in 1:2, c in 1:2]\n",
    "print(A)\n",
    "B = [r + c*c for r in 1:2, c in 1:2]\n",
    "print(B)\n",
    "println()\n",
    "#Multiplikation\n",
    "println(\"C:\")\n",
    "A.*B\n",
    "#Hier werden nur die Einzelnen Elemente multipliziert und nicht alle Elemente multipliziert und dann addiert"
   ]
  },
  {
   "cell_type": "code",
   "execution_count": 9,
   "id": "84c2aa65",
   "metadata": {},
   "outputs": [
    {
     "name": "stdout",
     "output_type": "stream",
     "text": [
      "[2 5; 3 6][2 5; 3 6]\n",
      "C:\n"
     ]
    },
    {
     "data": {
      "text/plain": [
       "2×2 Matrix{Float64}:\n",
       "  1.0          -1.85037e-16\n",
       " -5.32907e-16   1.0"
      ]
     },
     "execution_count": 9,
     "metadata": {},
     "output_type": "execute_result"
    }
   ],
   "source": [
    "#2 Matrixen\n",
    "A = [r + c*c for r in 1:2, c in 1:2]\n",
    "print(A)\n",
    "B = [r + c*c for r in 1:2, c in 1:2]\n",
    "print(B)\n",
    "println()\n",
    "#Division 1\n",
    "println(\"C:\")\n",
    "/(A,B)"
   ]
  },
  {
   "cell_type": "code",
   "execution_count": 10,
   "id": "650c36e0",
   "metadata": {},
   "outputs": [
    {
     "name": "stdout",
     "output_type": "stream",
     "text": [
      "[2 5; 3 6][2 5; 3 6]\n",
      "C:\n"
     ]
    },
    {
     "data": {
      "text/plain": [
       "2×2 Matrix{Float64}:\n",
       " 1.0          -4.44089e-16\n",
       " 1.11022e-16   1.0"
      ]
     },
     "execution_count": 10,
     "metadata": {},
     "output_type": "execute_result"
    }
   ],
   "source": [
    "#2 Matrixen\n",
    "A = [r + c*c for r in 1:2, c in 1:2]\n",
    "print(A)\n",
    "B = [r + c*c for r in 1:2, c in 1:2]\n",
    "print(B)\n",
    "println()\n",
    "#Division 1\n",
    "println(\"C:\")\n",
    "\\(A,B)\n",
    "#Hier werden auch nur die einzelnen Elemente durcheinander geteilt und nicht die komplette Reihe"
   ]
  },
  {
   "cell_type": "code",
   "execution_count": 11,
   "id": "0d127927",
   "metadata": {},
   "outputs": [
    {
     "name": "stdout",
     "output_type": "stream",
     "text": [
      "[2 5 10; 3 6 11; 4 7 12]\n",
      "C:\n"
     ]
    },
    {
     "ename": "LoadError",
     "evalue": "MethodError: no method matching +(::Matrix{Int64}, ::Int64)\nFor element-wise addition, use broadcasting with dot syntax: array .+ scalar\n\u001b[0mClosest candidates are:\n\u001b[0m  +(::Any, ::Any, \u001b[91m::Any\u001b[39m, \u001b[91m::Any...\u001b[39m) at C:\\Users\\julia\\AppData\\Local\\Programs\\Julia-1.7.3\\share\\julia\\base\\operators.jl:655\n\u001b[0m  +(\u001b[91m::T\u001b[39m, ::T) where T<:Union{Int128, Int16, Int32, Int64, Int8, UInt128, UInt16, UInt32, UInt64, UInt8} at C:\\Users\\julia\\AppData\\Local\\Programs\\Julia-1.7.3\\share\\julia\\base\\int.jl:87\n\u001b[0m  +(\u001b[91m::LinearAlgebra.UniformScaling\u001b[39m, ::Number) at C:\\Users\\julia\\AppData\\Local\\Programs\\Julia-1.7.3\\share\\julia\\stdlib\\v1.7\\LinearAlgebra\\src\\uniformscaling.jl:145\n\u001b[0m  ...",
     "output_type": "error",
     "traceback": [
      "MethodError: no method matching +(::Matrix{Int64}, ::Int64)\nFor element-wise addition, use broadcasting with dot syntax: array .+ scalar\n\u001b[0mClosest candidates are:\n\u001b[0m  +(::Any, ::Any, \u001b[91m::Any\u001b[39m, \u001b[91m::Any...\u001b[39m) at C:\\Users\\julia\\AppData\\Local\\Programs\\Julia-1.7.3\\share\\julia\\base\\operators.jl:655\n\u001b[0m  +(\u001b[91m::T\u001b[39m, ::T) where T<:Union{Int128, Int16, Int32, Int64, Int8, UInt128, UInt16, UInt32, UInt64, UInt8} at C:\\Users\\julia\\AppData\\Local\\Programs\\Julia-1.7.3\\share\\julia\\base\\int.jl:87\n\u001b[0m  +(\u001b[91m::LinearAlgebra.UniformScaling\u001b[39m, ::Number) at C:\\Users\\julia\\AppData\\Local\\Programs\\Julia-1.7.3\\share\\julia\\stdlib\\v1.7\\LinearAlgebra\\src\\uniformscaling.jl:145\n\u001b[0m  ...",
      "",
      "Stacktrace:",
      " [1] top-level scope",
      "   @ In[11]:7",
      " [2] eval",
      "   @ .\\boot.jl:373 [inlined]",
      " [3] include_string(mapexpr::typeof(REPL.softscope), mod::Module, code::String, filename::String)",
      "   @ Base .\\loading.jl:1196"
     ]
    }
   ],
   "source": [
    "#3*3 Matrix A\n",
    "A = [r + c*c for r in 1:3, c in 1:3]\n",
    "print(A)\n",
    "println()\n",
    "#A+1,A-1,A*2,A/2\n",
    "println(\"C:\")\n",
    "A+1"
   ]
  },
  {
   "cell_type": "code",
   "execution_count": null,
   "id": "f5fc2807",
   "metadata": {},
   "outputs": [],
   "source": []
  }
 ],
 "metadata": {
  "kernelspec": {
   "display_name": "Julia 1.7.3",
   "language": "julia",
   "name": "julia-1.7"
  },
  "language_info": {
   "file_extension": ".jl",
   "mimetype": "application/julia",
   "name": "julia",
   "version": "1.7.3"
  }
 },
 "nbformat": 4,
 "nbformat_minor": 5
}
