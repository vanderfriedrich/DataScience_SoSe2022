{
 "cells": [
  {
   "cell_type": "code",
   "execution_count": null,
   "id": "6be5cfe1",
   "metadata": {},
   "outputs": [
    {
     "name": "stdout",
     "output_type": "stream",
     "text": [
      "[1] 22\n",
      "Bitte Zahl eingeben: 22\n",
      "Bitte Zahl eingeben: 23\n",
      "Bitte Zahl eingeben: 20\n",
      "Bitte Zahl eingeben: 21\n"
     ]
    }
   ],
   "source": [
    "ratezahl<-floor(runif(1,0,100))\n",
    "erraten<<-FALSE\n",
    "ratezahl_int<<-as.integer(ratezahl)\n",
    "print(ratezahl)\n",
    "\n",
    "myfunct <- function(){\n",
    "    a_int<-as.integer(readline(prompt=\"Bitte Zahl eingeben: \"))\n",
    "    print(a_int)\n",
    "    a_glo<<-a_int\n",
    "  }\n",
    "\n",
    "\n",
    "while(erraten!=TRUE){\n",
    "    myfunct()    \n",
    "    if(ratezahl_int==a_glo){\n",
    "        erraten==TRUE\n",
    "        print(\"Gewonnen\")\n",
    "    } else {\n",
    "        erraten==FALSE\n",
    "    }\n",
    "}\n"
   ]
  },
  {
   "cell_type": "code",
   "execution_count": 1,
   "id": "daa338d6",
   "metadata": {},
   "outputs": [
    {
     "ename": "SyntaxError",
     "evalue": "invalid syntax (10235454.py, line 8)",
     "output_type": "error",
     "traceback": [
      "\u001b[1;36m  Input \u001b[1;32mIn [1]\u001b[1;36m\u001b[0m\n\u001b[1;33m    stripchart(ncases ~ agegp, data=esoph)\u001b[0m\n\u001b[1;37m                      ^\u001b[0m\n\u001b[1;31mSyntaxError\u001b[0m\u001b[1;31m:\u001b[0m invalid syntax\n"
     ]
    }
   ],
   "source": [
    "require(stats)\n",
    "require(graphics)\n",
    "\n",
    "#Normale Ausgabe esoph\n",
    "summary(esoph)\n",
    "\n",
    "#Darstellung der Daten in einem Streifendiagramm nach Alter und Fällen\n",
    "stripchart(ncases ~ agegp, data=esoph)\n",
    "\n",
    "#Histogram\n",
    "x <- rnorm(100,10,2)\n",
    "hist(x, col=\"green\",main=\"Alkohol pro Tag je Altersgruppe\", xlab=\"agegp\", ylab=\"aclgp\")\n",
    "\n",
    "\n"
   ]
  },
  {
   "cell_type": "code",
   "execution_count": null,
   "id": "97736f43",
   "metadata": {},
   "outputs": [],
   "source": []
  },
  {
   "cell_type": "code",
   "execution_count": null,
   "id": "72420256",
   "metadata": {},
   "outputs": [],
   "source": []
  },
  {
   "cell_type": "code",
   "execution_count": null,
   "id": "d884d8be",
   "metadata": {},
   "outputs": [],
   "source": []
  },
  {
   "cell_type": "code",
   "execution_count": null,
   "id": "e8d3f0f4",
   "metadata": {},
   "outputs": [],
   "source": []
  },
  {
   "cell_type": "code",
   "execution_count": null,
   "id": "db2489ca",
   "metadata": {},
   "outputs": [],
   "source": []
  },
  {
   "cell_type": "code",
   "execution_count": null,
   "id": "cee7b024",
   "metadata": {},
   "outputs": [],
   "source": []
  }
 ],
 "metadata": {
  "kernelspec": {
   "display_name": "Python 3 (ipykernel)",
   "language": "python",
   "name": "python3"
  },
  "language_info": {
   "codemirror_mode": {
    "name": "ipython",
    "version": 3
   },
   "file_extension": ".py",
   "mimetype": "text/x-python",
   "name": "python",
   "nbconvert_exporter": "python",
   "pygments_lexer": "ipython3",
   "version": "3.9.10"
  }
 },
 "nbformat": 4,
 "nbformat_minor": 5
}
