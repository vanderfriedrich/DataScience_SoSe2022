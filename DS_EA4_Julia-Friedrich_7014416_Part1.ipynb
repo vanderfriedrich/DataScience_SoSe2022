{
 "cells": [
  {
   "cell_type": "code",
   "execution_count": 1,
   "id": "7f35edd2",
   "metadata": {},
   "outputs": [],
   "source": [
    "import pandas as pd\n",
    "from sklearn.datasets import load_boston\n"
   ]
  },
  {
   "cell_type": "code",
   "execution_count": 2,
   "id": "0f65865b",
   "metadata": {},
   "outputs": [
    {
     "data": {
      "text/plain": [
       "25"
      ]
     },
     "execution_count": 2,
     "metadata": {},
     "output_type": "execute_result"
    }
   ],
   "source": [
    "def add(a, b):\n",
    "    return a+b\n",
    "\n",
    "val = add(12, 13)\n",
    "\n",
    "val"
   ]
  },
  {
   "cell_type": "code",
   "execution_count": 11,
   "id": "fd5612f9",
   "metadata": {},
   "outputs": [
    {
     "name": "stdout",
     "output_type": "stream",
     "text": [
      "['Julia', 'Anton', 'Karla']\n"
     ]
    }
   ],
   "source": [
    "def namen():\n",
    "    mynamen = ['Julia','Anton','Karla']\n",
    "    print(mynamen)\n",
    "    \n",
    "namen()\n",
    "    "
   ]
  },
  {
   "cell_type": "code",
   "execution_count": 12,
   "id": "4ed36333",
   "metadata": {},
   "outputs": [
    {
     "name": "stdout",
     "output_type": "stream",
     "text": [
      "Das Kind wird:  Karl heißen!\n"
     ]
    }
   ],
   "source": [
    "import random \n",
    "\n",
    "def namen():\n",
    "    mynamen = ['Horst', 'Egon', 'Karl']\n",
    "    name = (random.choice(mynamen))\n",
    "    print(\"Das Kind wird: \", name, \"heißen!\")\n",
    "\n",
    "namen()\n"
   ]
  },
  {
   "cell_type": "code",
   "execution_count": null,
   "id": "8a6cd87f",
   "metadata": {},
   "outputs": [],
   "source": []
  }
 ],
 "metadata": {
  "kernelspec": {
   "display_name": "Python 3 (ipykernel)",
   "language": "python",
   "name": "python3"
  },
  "language_info": {
   "codemirror_mode": {
    "name": "ipython",
    "version": 3
   },
   "file_extension": ".py",
   "mimetype": "text/x-python",
   "name": "python",
   "nbconvert_exporter": "python",
   "pygments_lexer": "ipython3",
   "version": "3.9.7"
  }
 },
 "nbformat": 4,
 "nbformat_minor": 5
}
