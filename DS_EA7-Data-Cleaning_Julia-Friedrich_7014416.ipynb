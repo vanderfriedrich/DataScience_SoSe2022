{
 "cells": [
  {
   "cell_type": "code",
   "execution_count": 41,
   "id": "d9cb232e",
   "metadata": {},
   "outputs": [
    {
     "name": "stdout",
     "output_type": "stream",
     "text": [
      "      id           full_name first_name    last_name  \\\n",
      "1    2.0       Kenyon Possek     Kenyon       Possek   \n",
      "11  12.0       Luz Lansdowne        Luz    Lansdowne   \n",
      "15  16.0           Eden Wace       Eden         Wace   \n",
      "14  15.0           Eden Wace       Eden         Wace   \n",
      "4    5.0       Norman Dubbin     Norman       Dubbin   \n",
      "16  17.0     Tobias Sherburn     Tobias     Sherburn   \n",
      "13  14.0        Stacee Bovis     Stacee        Bovis   \n",
      "6    7.0      Franz Castello      Franz     Castello   \n",
      "2    3.0      Lalo Manifould       Lalo    Manifould   \n",
      "3    4.0      Nickola Carous    Nickola       Carous   \n",
      "8    9.0  Eunice Blakebrough     Eunice  Blakebrough   \n",
      "10  11.0        Palm Domotor       Palm      Domotor   \n",
      "0    1.0     Mariel Finnigan     Mariel     Finnigan   \n",
      "19  20.0     Mathew Addicott     Mathew     Addicott   \n",
      "7    8.0        Jorge Tarney      Jorge       Tarney   \n",
      "12  13.0      Modestia Keble   Modestia        Keble   \n",
      "\n",
      "                             email  gender age  \n",
      "1                kpossek1@ucoz.com    Male  12  \n",
      "11     llansdowneb@theguardian.com  Female  16  \n",
      "15             ewacee@marriott.com  Female  16  \n",
      "14             ewacee@marriott.com  Female  16  \n",
      "4           ndubbin4@wikipedia.org    Male  17  \n",
      "16         tsherburnf@facebook.com    Male   2  \n",
      "13           sbovisd@webeden.co.uk  Female  22  \n",
      "6              fcastello6@1688.com    Male  25  \n",
      "2              lmanifould2@pbs.org    Male  26  \n",
      "3                ncarous3@phoca.cz    Male   4  \n",
      "8           eblakebrough8@sohu.com  Female  45  \n",
      "10             pdomotora@github.io    Male   6  \n",
      "0              mfinnigan0@usda.gov  Female  60  \n",
      "19  maddicotth@acquirethisname.com    Male  65  \n",
      "7                  jtarney7@ft.com    Male  77  \n",
      "12                 mkeblec@cmu.edu  Female  91  \n"
     ]
    }
   ],
   "source": [
    "import pandas as pd\n",
    "import io\n",
    "import requests\n",
    "import numpy as np\n",
    "url = \"https://raw.githubusercontent.com/edlich/eternalrepo/master/DS-WAHLFACH/dsm-beuth-edl-demodata-dirty.csv\"\n",
    "s = requests.get(url).content\n",
    "df = pd.read_csv(io.StringIO(s.decode('utf-8')))\n",
    "df.dropna(\n",
    "axis=0,\n",
    "how='any',\n",
    "inplace=False\n",
    ")\n",
    "df=df.dropna()\n",
    "#print(df.isnull().sum())\n",
    "#Zeilen mit neg. Alter oder Wort entfernen\n",
    "df=df.sort_values(by=['age'])\n",
    "#1. Zeile mit negativem Alter löschen\n",
    "df.drop(df.tail(1).index,inplace=True)\n",
    "#letzte Zeile mit String Wert als alter löschen\n",
    "df.drop(df.head(1).index,inplace=True)\n",
    "print(df)"
   ]
  },
  {
   "cell_type": "code",
   "execution_count": null,
   "id": "36b44884",
   "metadata": {},
   "outputs": [],
   "source": []
  },
  {
   "cell_type": "code",
   "execution_count": null,
   "id": "efec7bf5",
   "metadata": {},
   "outputs": [],
   "source": []
  }
 ],
 "metadata": {
  "kernelspec": {
   "display_name": "Python 3 (ipykernel)",
   "language": "python",
   "name": "python3"
  },
  "language_info": {
   "codemirror_mode": {
    "name": "ipython",
    "version": 3
   },
   "file_extension": ".py",
   "mimetype": "text/x-python",
   "name": "python",
   "nbconvert_exporter": "python",
   "pygments_lexer": "ipython3",
   "version": "3.9.7"
  }
 },
 "nbformat": 4,
 "nbformat_minor": 5
}
