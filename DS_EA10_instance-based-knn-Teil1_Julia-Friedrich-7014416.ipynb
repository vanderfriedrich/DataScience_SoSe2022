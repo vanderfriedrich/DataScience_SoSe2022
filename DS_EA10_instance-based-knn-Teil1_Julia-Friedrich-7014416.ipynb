{
 "cells": [
  {
   "cell_type": "code",
   "execution_count": 9,
   "id": "2d8e0ced",
   "metadata": {},
   "outputs": [
    {
     "name": "stdout",
     "output_type": "stream",
     "text": [
      "    Sport pro Woche in min  Gelesene Buecher pro Monat\n",
      "0                       90                           2\n",
      "1                      270                           0\n",
      "2                      180                           1\n",
      "3                       20                           8\n",
      "4                      400                           6\n",
      "5                      360                           5\n",
      "6                      120                           4\n",
      "7                       60                           3\n",
      "8                       80                           2\n",
      "9                       75                           1\n",
      "10                      90                          10\n",
      "11                      80                           7\n",
      "12                     240                           5\n",
      "13                     210                           3\n",
      "14                      45                           2\n",
      "15                     125                           4\n",
      "16                     175                           5\n",
      "17                     200                           2\n",
      "18                     225                           1\n",
      "    Sport pro Woche in min  Gelesene Buecher pro Monat\n",
      "0                -0.665704                   -0.652121\n",
      "1                 1.039695                   -1.403048\n",
      "2                 0.186995                   -1.027584\n",
      "3                -1.328914                    1.600660\n",
      "4                 2.271372                    0.849733\n",
      "5                 1.892394                    0.474270\n",
      "6                -0.381471                    0.098806\n",
      "7                -0.949937                   -0.276657\n",
      "8                -0.760448                   -0.652121\n",
      "9                -0.807820                   -1.027584\n",
      "10               -0.665704                    2.351587\n",
      "11               -0.760448                    1.225196\n",
      "12                0.755462                    0.474270\n",
      "13                0.471229                   -0.276657\n",
      "14               -1.092054                   -0.652121\n",
      "15               -0.334099                    0.098806\n",
      "16                0.139623                    0.474270\n",
      "17                0.376484                   -0.652121\n",
      "18                0.613345                   -1.027584\n",
      "Die Euklidische Distanz für die normalisierten Daten in Zeile 18 lauten:  1.640929\n"
     ]
    }
   ],
   "source": [
    "import numpy as np\n",
    "import pandas\n",
    "df = pandas.read_csv('https://raw.githubusercontent.com/vanderfriedrich/DataScience_SoSe2022/main/instanced-based-knn2.csv')\n",
    "print(df)\n",
    "\n",
    "def mean_norm(df_input):\n",
    "    return df_input.apply(lambda x: (x-x.mean())/x.std(),axis=0)\n",
    "\n",
    "df_mean_norm = mean_norm(df)\n",
    "print(df_mean_norm)\n",
    "\n",
    "#Testdaten\n",
    "point1 = 0.613345  \n",
    "point2 = -1.027584\n",
    "\n",
    "def distance(point1, point2):\n",
    "    array1, array2 = np.array(point1), np.array(point2)\n",
    "    squared_distance = np.sum(np.square(array1 - array2))\n",
    "    distance = np.sqrt(squared_distance)\n",
    "    return distance\n",
    "    \n",
    "print(\"Die Euklidische Distanz für die normalisierten Daten in Zeile 18 lauten: \", distance(point1, point2))"
   ]
  },
  {
   "cell_type": "code",
   "execution_count": null,
   "id": "66259b94",
   "metadata": {},
   "outputs": [],
   "source": []
  }
 ],
 "metadata": {
  "kernelspec": {
   "display_name": "Python 3 (ipykernel)",
   "language": "python",
   "name": "python3"
  },
  "language_info": {
   "codemirror_mode": {
    "name": "ipython",
    "version": 3
   },
   "file_extension": ".py",
   "mimetype": "text/x-python",
   "name": "python",
   "nbconvert_exporter": "python",
   "pygments_lexer": "ipython3",
   "version": "3.9.7"
  }
 },
 "nbformat": 4,
 "nbformat_minor": 5
}
